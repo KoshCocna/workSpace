{
 "cells": [
  {
   "cell_type": "code",
   "execution_count": 1,
   "id": "85d7ac66-9f35-439b-ace6-34562c6f35c9",
   "metadata": {},
   "outputs": [
    {
     "name": "stderr",
     "output_type": "stream",
     "text": [
      "2024-04-11 16:13:53.495698: I tensorflow/core/platform/cpu_feature_guard.cc:210] This TensorFlow binary is optimized to use available CPU instructions in performance-critical operations.\n",
      "To enable the following instructions: AVX2 FMA, in other operations, rebuild TensorFlow with the appropriate compiler flags.\n"
     ]
    }
   ],
   "source": [
    "import tensorflow as tf\n",
    "import numpy as np"
   ]
  },
  {
   "cell_type": "code",
   "execution_count": 2,
   "id": "69903d7a-d651-4ea6-b121-2cdc47db717f",
   "metadata": {},
   "outputs": [],
   "source": [
    "rng=np.random"
   ]
  },
  {
   "cell_type": "code",
   "execution_count": 11,
   "id": "845a5b49-c5d9-4077-8a7e-b9bc5433069e",
   "metadata": {},
   "outputs": [],
   "source": [
    "# Parameters\n",
    "learning_rate=0.01\n",
    "training_steps=1000\n",
    "display_step=50"
   ]
  },
  {
   "cell_type": "code",
   "execution_count": 4,
   "id": "5e3ffd68-8896-450b-98ff-9f57abaaf069",
   "metadata": {},
   "outputs": [],
   "source": [
    "# Training data\n",
    "X = np.array([3.3,4.4,5.5,6.71,6.93,4.168,9.779,6.182,7.59,2.167,\n",
    "              7.042,10.791,5.313,7.997,5.654,9.27,3.1])\n",
    "Y = np.array([1.7,2.76,2.09,3.19,1.694,1.573,3.366,2.596,2.53,1.221,\n",
    "              2.827,3.465,1.65,2.904,2.42,2.94,1.3])"
   ]
  },
  {
   "cell_type": "code",
   "execution_count": 5,
   "id": "9e46b875-15eb-4661-8ffc-8f96703ab16c",
   "metadata": {},
   "outputs": [],
   "source": [
    "# Weight and Bias, initialized randomly.\n",
    "W = tf.Variable(rng.randn(), name=\"weight\")\n",
    "b = tf.Variable(rng.randn(), name=\"bias\")"
   ]
  },
  {
   "cell_type": "code",
   "execution_count": 6,
   "id": "8a72e953-b037-4e4b-bd40-ca30a91dc5d8",
   "metadata": {},
   "outputs": [],
   "source": [
    "# Linear regression (Wx + b).\n",
    "def linear_regression(x):\n",
    "    return W * x + b"
   ]
  },
  {
   "cell_type": "code",
   "execution_count": 7,
   "id": "ca968bb3-1c99-4029-aba0-3e64e7a90602",
   "metadata": {},
   "outputs": [],
   "source": [
    "# Mean square error.\n",
    "def mean_square(y_pred, y_true):\n",
    "    return tf.reduce_mean(tf.square(y_pred - y_true))"
   ]
  },
  {
   "cell_type": "code",
   "execution_count": 8,
   "id": "ad786b43-db41-484a-9ef5-e27c11272af8",
   "metadata": {},
   "outputs": [],
   "source": [
    "# Stochastic Gradient Descent Optimizer.\n",
    "optimizer = tf.optimizers.SGD(learning_rate)"
   ]
  },
  {
   "cell_type": "code",
   "execution_count": 9,
   "id": "05fbc5de-a842-4340-a295-0e31e60e781b",
   "metadata": {},
   "outputs": [],
   "source": [
    "# Optimization process. \n",
    "def run_optimization():\n",
    "    # Wrap computation inside a GradientTape for automatic differentiation.\n",
    "    with tf.GradientTape() as g:\n",
    "        pred = linear_regression(X)\n",
    "        loss = mean_square(pred, Y)\n",
    "\n",
    "    # Compute gradients.\n",
    "    gradients = g.gradient(loss, [W, b])\n",
    "    \n",
    "    # Update W and b following gradients.\n",
    "    optimizer.apply_gradients(zip(gradients, [W, b]))"
   ]
  },
  {
   "cell_type": "code",
   "execution_count": 12,
   "id": "f634e416-b596-4930-b713-40cdfdebd6d5",
   "metadata": {},
   "outputs": [
    {
     "name": "stdout",
     "output_type": "stream",
     "text": [
      "step: 50, loss: 0.156906, W: 0.229502, b: 0.955713\n",
      "step: 100, loss: 0.156248, W: 0.232035, b: 0.937757\n",
      "step: 150, loss: 0.155732, W: 0.234278, b: 0.921855\n",
      "step: 200, loss: 0.155328, W: 0.236264, b: 0.907773\n",
      "step: 250, loss: 0.155011, W: 0.238023, b: 0.895303\n",
      "step: 300, loss: 0.154762, W: 0.239581, b: 0.884260\n",
      "step: 350, loss: 0.154567, W: 0.240960, b: 0.874480\n",
      "step: 400, loss: 0.154414, W: 0.242182, b: 0.865820\n",
      "step: 450, loss: 0.154294, W: 0.243264, b: 0.858150\n",
      "step: 500, loss: 0.154200, W: 0.244222, b: 0.851359\n",
      "step: 550, loss: 0.154126, W: 0.245070, b: 0.845344\n",
      "step: 600, loss: 0.154068, W: 0.245821, b: 0.840018\n",
      "step: 650, loss: 0.154023, W: 0.246486, b: 0.835301\n",
      "step: 700, loss: 0.153987, W: 0.247076, b: 0.831125\n",
      "step: 750, loss: 0.153959, W: 0.247597, b: 0.827426\n",
      "step: 800, loss: 0.153937, W: 0.248059, b: 0.824150\n",
      "step: 850, loss: 0.153920, W: 0.248469, b: 0.821249\n",
      "step: 900, loss: 0.153907, W: 0.248831, b: 0.818680\n",
      "step: 950, loss: 0.153896, W: 0.249152, b: 0.816405\n",
      "step: 1000, loss: 0.153888, W: 0.249436, b: 0.814391\n"
     ]
    }
   ],
   "source": [
    "# Run training for the given number of steps.\n",
    "for step in range(1, training_steps + 1):\n",
    "    # Run the optimization to update W and b values.\n",
    "    run_optimization()\n",
    "    \n",
    "    if step % display_step == 0:\n",
    "        pred = linear_regression(X)\n",
    "        loss = mean_square(pred, Y)\n",
    "        print(\"step: %i, loss: %f, W: %f, b: %f\" % (step, loss, W.numpy(), b.numpy()))"
   ]
  },
  {
   "cell_type": "code",
   "execution_count": 13,
   "id": "23ae8f87-b24c-411d-a93b-1c7534190590",
   "metadata": {},
   "outputs": [],
   "source": [
    "import matplotlib.pyplot as plt"
   ]
  },
  {
   "cell_type": "code",
   "execution_count": 14,
   "id": "baa83aba-c1b3-4063-b330-4bfb1ff7cf01",
   "metadata": {
    "scrolled": true
   },
   "outputs": [
    {
     "data": {
      "image/png": "[encoded data removed]",
      "text/plain": [
       "<Figure size 640x480 with 1 Axes>"
      ]
     },
     "metadata": {},
     "output_type": "display_data"
    }
   ],
   "source": [
    "# Graphic display\n",
    "plt.plot(X, Y, 'ro', label='Original data')\n",
    "plt.plot(X, np.array(W * X + b), label='Fitted line')\n",
    "plt.legend()\n",
    "plt.show()"
   ]
  },
  {
   "cell_type": "markdown",
   "id": "4902144e-9b3b-4f16-bcd0-3eeae8b74bfe",
   "metadata": {},
   "source": [
    "### the other example"
   ]
  },
  {
   "cell_type": "code",
   "execution_count": 16,
   "id": "09e11769-22c1-4475-9c9b-9a55c1a14cba",
   "metadata": {},
   "outputs": [],
   "source": [
    "np.random.seed(101)"
   ]
  },
  {
   "cell_type": "code",
   "execution_count": 17,
   "id": "fff4b6f9-3825-4e97-aad3-076f02296764",
   "metadata": {},
   "outputs": [],
   "source": [
    "# Generating random linear data\n",
    "# There will be 50 data points ranging from 0 to 50\n",
    "x = np.linspace(0, 50, 50)\n",
    "y = np.linspace(0, 50, 50)\n",
    "\n",
    "# Adding noise to the random linear data\n",
    "x += np.random.uniform(-4, 4, 50)\n",
    "y += np.random.uniform(-4, 4, 50)\n",
    "\n",
    "n = len(x) # Number of data points"
   ]
  },
  {
   "cell_type": "code",
   "execution_count": 18,
   "id": "a8696181-a412-4e7f-9c17-797e852119db",
   "metadata": {},
   "outputs": [
    {
     "data": {
      "image/png": "[encoded data removed]",
      "text/plain": [
       "<Figure size 640x480 with 1 Axes>"
      ]
     },
     "metadata": {},
     "output_type": "display_data"
    }
   ],
   "source": [
    "# Plot of Training Data\n",
    "plt.scatter(x, y)\n",
    "plt.xlabel('x')\n",
    "plt.ylabel('y')\n",
    "plt.title(\"Training Data\")\n",
    "plt.show()"
   ]
  },
  {
   "cell_type": "code",
   "execution_count": 21,
   "id": "be5a244c-d224-4ef1-85e7-66cce3da3f57",
   "metadata": {},
   "outputs": [],
   "source": [
    "W = tf.Variable(np.random.randn(), name = \"weight\")\n",
    "b = tf.Variable(np.random.randn(), name = \"bias\")"
   ]
  },
  {
   "cell_type": "code",
   "execution_count": 22,
   "id": "581e52f5-a8ef-4306-8588-5c029710247a",
   "metadata": {},
   "outputs": [],
   "source": [
    "learning_rate = 0.01\n",
    "training_epochs = 1000"
   ]
  }
 ],
 "metadata": {
  "kernelspec": {
   "display_name": "Python 3 (ipykernel)",
   "language": "python",
   "name": "python3"
  },
  "language_info": {
   "codemirror_mode": {
    "name": "ipython",
    "version": 3
   },
   "file_extension": ".py",
   "mimetype": "text/x-python",
   "name": "python",
   "nbconvert_exporter": "python",
   "pygments_lexer": "ipython3",
   "version": "3.11.5"
  }
 },
 "nbformat": 4,
 "nbformat_minor": 5
}
