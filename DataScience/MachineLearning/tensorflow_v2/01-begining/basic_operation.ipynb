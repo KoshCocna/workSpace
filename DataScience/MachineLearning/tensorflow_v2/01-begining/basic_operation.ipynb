{
 "cells": [
  {
   "cell_type": "code",
   "execution_count": 1,
   "id": "273d39f7-d3ef-4f16-b30d-f603dc9a9697",
   "metadata": {},
   "outputs": [
    {
     "name": "stderr",
     "output_type": "stream",
     "text": [
      "2024-04-11 15:42:24.333240: I tensorflow/core/platform/cpu_feature_guard.cc:210] This TensorFlow binary is optimized to use available CPU instructions in performance-critical operations.\n",
      "To enable the following instructions: AVX2 FMA, in other operations, rebuild TensorFlow with the appropriate compiler flags.\n"
     ]
    }
   ],
   "source": [
    "import tensorflow as tf"
   ]
  },
  {
   "cell_type": "code",
   "execution_count": 2,
   "id": "05a2615e-99c3-4360-ae6e-044ed3cbfd58",
   "metadata": {},
   "outputs": [],
   "source": [
    "a=tf.constant(2)\n",
    "b=tf.constant(3)\n",
    "c=tf.constant(5)"
   ]
  },
  {
   "cell_type": "code",
   "execution_count": 3,
   "id": "a23e4733-acdd-4820-aae5-2d8c029c98c3",
   "metadata": {},
   "outputs": [],
   "source": [
    "add=tf.add(a,b)\n",
    "sub=tf.subtract(a,b)\n",
    "mul=tf.multiply(a,b)\n",
    "div=tf.divide(a,b)"
   ]
  },
  {
   "cell_type": "code",
   "execution_count": 5,
   "id": "15a0de15-d54f-459f-993a-2998e0f3a410",
   "metadata": {},
   "outputs": [
    {
     "name": "stdout",
     "output_type": "stream",
     "text": [
      "add = 5\n",
      "sub = -1\n",
      "mul = 6\n",
      "div = 0.6666666666666666\n"
     ]
    }
   ],
   "source": [
    "print('add =',add.numpy())\n",
    "print('sub =',sub.numpy())\n",
    "print('mul =',mul.numpy())\n",
    "print('div =',div.numpy())"
   ]
  },
  {
   "cell_type": "code",
   "execution_count": 7,
   "id": "619e8f5f-d8f5-40c5-986d-4f4722a380d7",
   "metadata": {},
   "outputs": [],
   "source": [
    "mean=tf.reduce_mean([a,b,c])\n",
    "max=tf.reduce_max([a,b,c])\n",
    "sum=tf.reduce_sum([a,b,c])"
   ]
  },
  {
   "cell_type": "code",
   "execution_count": 9,
   "id": "18957b6b-634a-4ad9-abd3-2dacbabb9dc7",
   "metadata": {},
   "outputs": [
    {
     "name": "stdout",
     "output_type": "stream",
     "text": [
      "mean = 3\n",
      "max = 5\n",
      "sum = 10\n"
     ]
    }
   ],
   "source": [
    "print('mean =', mean.numpy())\n",
    "print('max =', max.numpy())\n",
    "print('sum =', sum.numpy())"
   ]
  },
  {
   "cell_type": "code",
   "execution_count": 12,
   "id": "387756bb-f389-4ce3-8400-b0f2c3a17055",
   "metadata": {},
   "outputs": [
    {
     "name": "stdout",
     "output_type": "stream",
     "text": [
      "b'hi'\n"
     ]
    }
   ],
   "source": [
    "msg=tf.constant('hi')\n",
    "print(msg.numpy())"
   ]
  },
  {
   "cell_type": "code",
   "execution_count": 13,
   "id": "b9ff77c5-afed-4a8f-bd84-45750166774e",
   "metadata": {},
   "outputs": [],
   "source": [
    "matrix_1=tf.constant([[1.,2.],[3.,4.]])\n",
    "matrix_2=tf.constant([[5.,6.],[7.,8.]])"
   ]
  },
  {
   "cell_type": "code",
   "execution_count": 14,
   "id": "9011101c-a14e-49e9-936c-efacaea959b3",
   "metadata": {},
   "outputs": [],
   "source": [
    "product=tf.matmul(matrix_1,matrix_2)"
   ]
  },
  {
   "cell_type": "code",
   "execution_count": 15,
   "id": "05919472-ffbb-4800-90f5-ee8029a9b5c2",
   "metadata": {},
   "outputs": [
    {
     "data": {
      "text/plain": [
       "array([[19., 22.],\n",
       "       [43., 50.]], dtype=float32)"
      ]
     },
     "execution_count": 15,
     "metadata": {},
     "output_type": "execute_result"
    }
   ],
   "source": [
    "product.numpy()"
   ]
  }
 ],
 "metadata": {
  "kernelspec": {
   "display_name": "Python 3 (ipykernel)",
   "language": "python",
   "name": "python3"
  },
  "language_info": {
   "codemirror_mode": {
    "name": "ipython",
    "version": 3
   },
   "file_extension": ".py",
   "mimetype": "text/x-python",
   "name": "python",
   "nbconvert_exporter": "python",
   "pygments_lexer": "ipython3",
   "version": "3.11.5"
  }
 },
 "nbformat": 4,
 "nbformat_minor": 5
}
