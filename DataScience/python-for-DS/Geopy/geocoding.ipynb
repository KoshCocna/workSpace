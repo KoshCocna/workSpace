{
 "cells": [
  {
   "cell_type": "code",
   "execution_count": 5,
   "id": "c7ff0618-ec84-46f2-a7e0-f4cab2dfcf26",
   "metadata": {},
   "outputs": [],
   "source": [
    "import pandas as pd\n",
    "from geopy.geocoders import Nominatim"
   ]
  },
  {
   "cell_type": "code",
   "execution_count": 7,
   "id": "4e7bcda1-253b-4a93-a04d-7d848cbaaf87",
   "metadata": {},
   "outputs": [],
   "source": [
    "nom=Nominatim(user_agent='geocoding')"
   ]
  },
  {
   "cell_type": "code",
   "execution_count": 8,
   "id": "d5da0e02-95b9-4271-8c3e-86738f535232",
   "metadata": {},
   "outputs": [],
   "source": [
    "n=nom.geocode('3995 23rd St, San Francisco, CA 94114')"
   ]
  },
  {
   "cell_type": "code",
   "execution_count": 9,
   "id": "b98bb4eb-6696-4722-98c1-6a9804610ea5",
   "metadata": {},
   "outputs": [
    {
     "data": {
      "text/plain": [
       "-122.4317141"
      ]
     },
     "execution_count": 9,
     "metadata": {},
     "output_type": "execute_result"
    }
   ],
   "source": [
    "n.longitude"
   ]
  },
  {
   "cell_type": "code",
   "execution_count": 10,
   "id": "e331ce59-e106-4987-8f4a-1811391fce7e",
   "metadata": {},
   "outputs": [
    {
     "data": {
      "text/plain": [
       "37.7529648"
      ]
     },
     "execution_count": 10,
     "metadata": {},
     "output_type": "execute_result"
    }
   ],
   "source": [
    "n.latitude"
   ]
  },
  {
   "cell_type": "code",
   "execution_count": null,
   "id": "ed46d99c-dc7a-4f50-a946-37c2008a284c",
   "metadata": {},
   "outputs": [],
   "source": []
  }
 ],
 "metadata": {
  "kernelspec": {
   "display_name": "Python 3 (ipykernel)",
   "language": "python",
   "name": "python3"
  },
  "language_info": {
   "codemirror_mode": {
    "name": "ipython",
    "version": 3
   },
   "file_extension": ".py",
   "mimetype": "text/x-python",
   "name": "python",
   "nbconvert_exporter": "python",
   "pygments_lexer": "ipython3",
   "version": "3.11.5"
  }
 },
 "nbformat": 4,
 "nbformat_minor": 5
}
