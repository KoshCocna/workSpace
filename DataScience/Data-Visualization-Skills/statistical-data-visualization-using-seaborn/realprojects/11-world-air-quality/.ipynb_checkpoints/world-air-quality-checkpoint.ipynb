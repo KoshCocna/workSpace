{
 "cells": [
  {
   "cell_type": "code",
   "execution_count": 1,
   "id": "f0cc2172-f545-4c1c-b551-683a51c2073b",
   "metadata": {},
   "outputs": [],
   "source": [
    "import pandas as pd\n",
    "import seaborn as sns\n",
    "import warnings"
   ]
  },
  {
   "cell_type": "code",
   "execution_count": 2,
   "id": "97e4dd08-0c59-4880-b4ab-dc2cda5860b3",
   "metadata": {},
   "outputs": [],
   "source": [
    "warnings.filterwarnings('ignore')"
   ]
  },
  {
   "cell_type": "code",
   "execution_count": 4,
   "id": "e6702177-2ae8-4b6b-8d8a-4d845a53e7c5",
   "metadata": {},
   "outputs": [
    {
     "data": {
      "text/html": [
       "<div>\n",
       "<style scoped>\n",
       "    .dataframe tbody tr th:only-of-type {\n",
       "        vertical-align: middle;\n",
       "    }\n",
       "\n",
       "    .dataframe tbody tr th {\n",
       "        vertical-align: top;\n",
       "    }\n",
       "\n",
       "    .dataframe thead th {\n",
       "        text-align: right;\n",
       "    }\n",
       "</style>\n",
       "<table border=\"1\" class=\"dataframe\">\n",
       "  <thead>\n",
       "    <tr style=\"text-align: right;\">\n",
       "      <th></th>\n",
       "      <th>Country Code;City;Location;Coordinates;Pollutant;Source Name;Unit;Value;Last Updated;Country Label</th>\n",
       "    </tr>\n",
       "  </thead>\n",
       "  <tbody>\n",
       "    <tr>\n",
       "      <th>JP;;北九州市小倉北区大門一丁目６－４８;33.880833</th>\n",
       "      <td>130.873056;NO;japan-soramame;ppm;0.002;2024-0...</td>\n",
       "    </tr>\n",
       "    <tr>\n",
       "      <th>JP;;北九州市若松区本町三丁目１３－１;33.898056</th>\n",
       "      <td>130.81;NO2;japan-soramame;ppm;0.005;2024-03-1...</td>\n",
       "    </tr>\n",
       "    <tr>\n",
       "      <th>JP;;北九州市門司区大里原町１２－１２;33.895833</th>\n",
       "      <td>130.935833;NOX;japan-soramame;ppm;0.013;2024-...</td>\n",
       "    </tr>\n",
       "  </tbody>\n",
       "</table>\n",
       "</div>"
      ],
      "text/plain": [
       "                                Country Code;City;Location;Coordinates;Pollutant;Source Name;Unit;Value;Last Updated;Country Label\n",
       "JP;;北九州市小倉北区大門一丁目６－４８;33.880833   130.873056;NO;japan-soramame;ppm;0.002;2024-0...                                                \n",
       "JP;;北九州市若松区本町三丁目１３－１;33.898056    130.81;NO2;japan-soramame;ppm;0.005;2024-03-1...                                                \n",
       "JP;;北九州市門司区大里原町１２－１２;33.895833    130.935833;NOX;japan-soramame;ppm;0.013;2024-...                                                "
      ]
     },
     "execution_count": 4,
     "metadata": {},
     "output_type": "execute_result"
    }
   ],
   "source": [
    "raw_data=pd.read_csv('world_air_quality.csv', on_bad_lines='skip')\n",
    "raw_data.head(3)"
   ]
  },
  {
   "cell_type": "code",
   "execution_count": 5,
   "id": "0c3e22a0-ba9d-4248-9c93-45d766e7b6b1",
   "metadata": {},
   "outputs": [
    {
     "name": "stdout",
     "output_type": "stream",
     "text": [
      "<class 'pandas.core.frame.DataFrame'>\n",
      "Index: 49547 entries, JP;;北九州市小倉北区大門一丁目６－４８;33.880833 to IT;RETE REGIONALE QUALITA' DELL'ARIA DELLA TOSCANA;NET.IT279A;43.91611\n",
      "Data columns (total 1 columns):\n",
      " #   Column                                                                                              Non-Null Count  Dtype \n",
      "---  ------                                                                                              --------------  ----- \n",
      " 0   Country Code;City;Location;Coordinates;Pollutant;Source Name;Unit;Value;Last Updated;Country Label  49477 non-null  object\n",
      "dtypes: object(1)\n",
      "memory usage: 774.2+ KB\n"
     ]
    }
   ],
   "source": [
    "raw_data.info()"
   ]
  },
  {
   "cell_type": "code",
   "execution_count": 6,
   "id": "24569420-5080-437c-bf31-c24c123da970",
   "metadata": {},
   "outputs": [
    {
     "data": {
      "text/plain": [
       "Country Code;City;Location;Coordinates;Pollutant;Source Name;Unit;Value;Last Updated;Country Label    49430\n",
       "dtype: int64"
      ]
     },
     "execution_count": 6,
     "metadata": {},
     "output_type": "execute_result"
    }
   ],
   "source": [
    "raw_data.nunique()"
   ]
  },
  {
   "cell_type": "code",
   "execution_count": 8,
   "id": "8462f464-3069-4d57-8547-70537f3965b2",
   "metadata": {},
   "outputs": [
    {
     "data": {
      "text/html": [
       "<div>\n",
       "<style scoped>\n",
       "    .dataframe tbody tr th:only-of-type {\n",
       "        vertical-align: middle;\n",
       "    }\n",
       "\n",
       "    .dataframe tbody tr th {\n",
       "        vertical-align: top;\n",
       "    }\n",
       "\n",
       "    .dataframe thead th {\n",
       "        text-align: right;\n",
       "    }\n",
       "</style>\n",
       "<table border=\"1\" class=\"dataframe\">\n",
       "  <thead>\n",
       "    <tr style=\"text-align: right;\">\n",
       "      <th></th>\n",
       "      <th>0</th>\n",
       "    </tr>\n",
       "  </thead>\n",
       "  <tbody>\n",
       "    <tr>\n",
       "      <th>0</th>\n",
       "      <td>Country Code;City;Location;Coordinates;Polluta...</td>\n",
       "    </tr>\n",
       "    <tr>\n",
       "      <th>1</th>\n",
       "      <td>JP;;北九州市小倉北区大門一丁目６－４８;33.880833, 130.873056;NO...</td>\n",
       "    </tr>\n",
       "    <tr>\n",
       "      <th>2</th>\n",
       "      <td>JP;;北九州市若松区本町三丁目１３－１;33.898056, 130.81;NO2;jap...</td>\n",
       "    </tr>\n",
       "  </tbody>\n",
       "</table>\n",
       "</div>"
      ],
      "text/plain": [
       "                                                   0\n",
       "0  Country Code;City;Location;Coordinates;Polluta...\n",
       "1  JP;;北九州市小倉北区大門一丁目６－４８;33.880833, 130.873056;NO...\n",
       "2  JP;;北九州市若松区本町三丁目１３－１;33.898056, 130.81;NO2;jap..."
      ]
     },
     "execution_count": 8,
     "metadata": {},
     "output_type": "execute_result"
    }
   ],
   "source": [
    "raw_data2=pd.read_csv('world_air_quality.csv', sep='delimiter', header = None)\n",
    "raw_data2.head(3)"
   ]
  },
  {
   "cell_type": "code",
   "execution_count": 9,
   "id": "26faedfa-90a2-473d-8e68-16d250a838f1",
   "metadata": {},
   "outputs": [
    {
     "name": "stdout",
     "output_type": "stream",
     "text": [
      "<class 'pandas.core.frame.DataFrame'>\n",
      "RangeIndex: 54256 entries, 0 to 54255\n",
      "Data columns (total 1 columns):\n",
      " #   Column  Non-Null Count  Dtype \n",
      "---  ------  --------------  ----- \n",
      " 0   0       54256 non-null  object\n",
      "dtypes: object(1)\n",
      "memory usage: 424.0+ KB\n"
     ]
    }
   ],
   "source": [
    "raw_data2.info()"
   ]
  },
  {
   "cell_type": "code",
   "execution_count": 10,
   "id": "ad194776-02a7-417e-b925-b9c74d2756fe",
   "metadata": {},
   "outputs": [
    {
     "data": {
      "text/plain": [
       "0    54256\n",
       "dtype: int64"
      ]
     },
     "execution_count": 10,
     "metadata": {},
     "output_type": "execute_result"
    }
   ],
   "source": [
    "raw_data2.nunique()"
   ]
  },
  {
   "cell_type": "code",
   "execution_count": 11,
   "id": "241c71ff-8e3a-4e91-b846-225534101840",
   "metadata": {},
   "outputs": [
    {
     "data": {
      "text/html": [
       "<div>\n",
       "<style scoped>\n",
       "    .dataframe tbody tr th:only-of-type {\n",
       "        vertical-align: middle;\n",
       "    }\n",
       "\n",
       "    .dataframe tbody tr th {\n",
       "        vertical-align: top;\n",
       "    }\n",
       "\n",
       "    .dataframe thead th {\n",
       "        text-align: right;\n",
       "    }\n",
       "</style>\n",
       "<table border=\"1\" class=\"dataframe\">\n",
       "  <thead>\n",
       "    <tr style=\"text-align: right;\">\n",
       "      <th></th>\n",
       "      <th>Country Code;City;Location;Coordinates;Pollutant;Source Name;Unit;Value;Last Updated;Country Label</th>\n",
       "    </tr>\n",
       "  </thead>\n",
       "  <tbody>\n",
       "    <tr>\n",
       "      <th>0</th>\n",
       "      <td>JP;;北九州市小倉北区大門一丁目６－４８;33.880833, 130.873056;NO...</td>\n",
       "    </tr>\n",
       "    <tr>\n",
       "      <th>1</th>\n",
       "      <td>JP;;北九州市若松区本町三丁目１３－１;33.898056, 130.81;NO2;jap...</td>\n",
       "    </tr>\n",
       "    <tr>\n",
       "      <th>2</th>\n",
       "      <td>JP;;北九州市門司区大里原町１２－１２;33.895833, 130.935833;NOX...</td>\n",
       "    </tr>\n",
       "  </tbody>\n",
       "</table>\n",
       "</div>"
      ],
      "text/plain": [
       "  Country Code;City;Location;Coordinates;Pollutant;Source Name;Unit;Value;Last Updated;Country Label\n",
       "0  JP;;北九州市小倉北区大門一丁目６－４８;33.880833, 130.873056;NO...                                                \n",
       "1  JP;;北九州市若松区本町三丁目１３－１;33.898056, 130.81;NO2;jap...                                                \n",
       "2  JP;;北九州市門司区大里原町１２－１２;33.895833, 130.935833;NOX...                                                "
      ]
     },
     "execution_count": 11,
     "metadata": {},
     "output_type": "execute_result"
    }
   ],
   "source": [
    "raw_data3=pd.read_csv('world_air_quality.csv', sep='\\t')\n",
    "raw_data3.head(3)"
   ]
  },
  {
   "cell_type": "code",
   "execution_count": 13,
   "id": "862dfe47-b637-4467-a1da-85e5a3f4b1a9",
   "metadata": {},
   "outputs": [
    {
     "name": "stdout",
     "output_type": "stream",
     "text": [
      "<class 'pandas.core.frame.DataFrame'>\n",
      "RangeIndex: 54255 entries, 0 to 54254\n",
      "Data columns (total 1 columns):\n",
      " #   Column                                                                                              Non-Null Count  Dtype \n",
      "---  ------                                                                                              --------------  ----- \n",
      " 0   Country Code;City;Location;Coordinates;Pollutant;Source Name;Unit;Value;Last Updated;Country Label  54255 non-null  object\n",
      "dtypes: object(1)\n",
      "memory usage: 424.0+ KB\n"
     ]
    },
    {
     "data": {
      "text/plain": [
       "Country Code;City;Location;Coordinates;Pollutant;Source Name;Unit;Value;Last Updated;Country Label    54255\n",
       "dtype: int64"
      ]
     },
     "execution_count": 13,
     "metadata": {},
     "output_type": "execute_result"
    }
   ],
   "source": [
    "raw_data3.info()\n",
    "raw_data3.nunique()"
   ]
  },
  {
   "cell_type": "code",
   "execution_count": 18,
   "id": "41206461-1c0d-46c7-a9d6-6d4c5ee842ad",
   "metadata": {},
   "outputs": [
    {
     "data": {
      "text/html": [
       "<div>\n",
       "<style scoped>\n",
       "    .dataframe tbody tr th:only-of-type {\n",
       "        vertical-align: middle;\n",
       "    }\n",
       "\n",
       "    .dataframe tbody tr th {\n",
       "        vertical-align: top;\n",
       "    }\n",
       "\n",
       "    .dataframe thead th {\n",
       "        text-align: right;\n",
       "    }\n",
       "</style>\n",
       "<table border=\"1\" class=\"dataframe\">\n",
       "  <thead>\n",
       "    <tr style=\"text-align: right;\">\n",
       "      <th></th>\n",
       "      <th>Country Code</th>\n",
       "      <th>City</th>\n",
       "      <th>Location</th>\n",
       "      <th>Coordinates</th>\n",
       "      <th>Pollutant</th>\n",
       "    </tr>\n",
       "  </thead>\n",
       "  <tbody>\n",
       "    <tr>\n",
       "      <th>0</th>\n",
       "      <td>Country Code;City;Location;Coordinates;Polluta...</td>\n",
       "      <td>NaN</td>\n",
       "      <td>NaN</td>\n",
       "      <td>NaN</td>\n",
       "      <td>NaN</td>\n",
       "    </tr>\n",
       "    <tr>\n",
       "      <th>1</th>\n",
       "      <td>JP;;北九州市小倉北区大門一丁目６－４８;33.880833</td>\n",
       "      <td>130.873056;NO;japan-soramame;ppm;0.002;2024-0...</td>\n",
       "      <td>NaN</td>\n",
       "      <td>NaN</td>\n",
       "      <td>NaN</td>\n",
       "    </tr>\n",
       "    <tr>\n",
       "      <th>2</th>\n",
       "      <td>JP;;北九州市若松区本町三丁目１３－１;33.898056</td>\n",
       "      <td>130.81;NO2;japan-soramame;ppm;0.005;2024-03-1...</td>\n",
       "      <td>NaN</td>\n",
       "      <td>NaN</td>\n",
       "      <td>NaN</td>\n",
       "    </tr>\n",
       "  </tbody>\n",
       "</table>\n",
       "</div>"
      ],
      "text/plain": [
       "                                        Country Code  \\\n",
       "0  Country Code;City;Location;Coordinates;Polluta...   \n",
       "1                    JP;;北九州市小倉北区大門一丁目６－４８;33.880833   \n",
       "2                     JP;;北九州市若松区本町三丁目１３－１;33.898056   \n",
       "\n",
       "                                                City Location Coordinates  \\\n",
       "0                                                NaN      NaN         NaN   \n",
       "1   130.873056;NO;japan-soramame;ppm;0.002;2024-0...      NaN         NaN   \n",
       "2   130.81;NO2;japan-soramame;ppm;0.005;2024-03-1...      NaN         NaN   \n",
       "\n",
       "  Pollutant  \n",
       "0       NaN  \n",
       "1       NaN  \n",
       "2       NaN  "
      ]
     },
     "execution_count": 18,
     "metadata": {},
     "output_type": "execute_result"
    }
   ],
   "source": [
    "col_names = ['Country Code','City','Location','Coordinates','Pollutant']\n",
    "raw_data4 = pd.read_csv('world_air_quality.csv', names=col_names)\n",
    "raw_data4.head(3)"
   ]
  },
  {
   "cell_type": "markdown",
   "id": "e532ca28-cca9-4c95-8484-a287ab087679",
   "metadata": {},
   "source": [
    "there is a problem with analyse this dataset due to the format of this file."
   ]
  },
  {
   "cell_type": "code",
   "execution_count": null,
   "id": "d744c3bf-d237-4b2b-97de-9b258b9c3fd8",
   "metadata": {},
   "outputs": [],
   "source": []
  },
  {
   "cell_type": "code",
   "execution_count": null,
   "id": "3afb0807-438e-4b13-b0cd-df3ccf32e6e9",
   "metadata": {},
   "outputs": [],
   "source": []
  }
 ],
 "metadata": {
  "kernelspec": {
   "display_name": "Python 3 (ipykernel)",
   "language": "python",
   "name": "python3"
  },
  "language_info": {
   "codemirror_mode": {
    "name": "ipython",
    "version": 3
   },
   "file_extension": ".py",
   "mimetype": "text/x-python",
   "name": "python",
   "nbconvert_exporter": "python",
   "pygments_lexer": "ipython3",
   "version": "3.11.5"
  }
 },
 "nbformat": 4,
 "nbformat_minor": 5
}
