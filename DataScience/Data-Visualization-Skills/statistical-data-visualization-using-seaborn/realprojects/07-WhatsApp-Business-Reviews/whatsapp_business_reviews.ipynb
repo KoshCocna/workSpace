{
 "cells": [
  {
   "cell_type": "code",
   "execution_count": 7,
   "id": "2f8e85c4-64ad-46b8-ae41-d43446e671a8",
   "metadata": {},
   "outputs": [],
   "source": [
    "import pandas as pd\n",
    "import warnings\n",
    "import seaborn as sns\n",
    "from matplotlib import pyplot as plt"
   ]
  },
  {
   "cell_type": "code",
   "execution_count": 2,
   "id": "41d1cb4f-f926-49c7-bdbb-a4a0497fb420",
   "metadata": {},
   "outputs": [],
   "source": [
    "warnings.filterwarnings('ignore')"
   ]
  },
  {
   "cell_type": "code",
   "execution_count": 3,
   "id": "768586f4-e389-4361-850e-7c8a86a7fbf4",
   "metadata": {},
   "outputs": [
    {
     "data": {
      "text/html": [
       "<div>\n",
       "<style scoped>\n",
       "    .dataframe tbody tr th:only-of-type {\n",
       "        vertical-align: middle;\n",
       "    }\n",
       "\n",
       "    .dataframe tbody tr th {\n",
       "        vertical-align: top;\n",
       "    }\n",
       "\n",
       "    .dataframe thead th {\n",
       "        text-align: right;\n",
       "    }\n",
       "</style>\n",
       "<table border=\"1\" class=\"dataframe\">\n",
       "  <thead>\n",
       "    <tr style=\"text-align: right;\">\n",
       "      <th></th>\n",
       "      <th>date</th>\n",
       "      <th>userName</th>\n",
       "      <th>userUrl</th>\n",
       "      <th>version</th>\n",
       "      <th>score</th>\n",
       "      <th>title</th>\n",
       "      <th>text</th>\n",
       "      <th>url</th>\n",
       "      <th>country</th>\n",
       "      <th>appId</th>\n",
       "    </tr>\n",
       "    <tr>\n",
       "      <th>id</th>\n",
       "      <th></th>\n",
       "      <th></th>\n",
       "      <th></th>\n",
       "      <th></th>\n",
       "      <th></th>\n",
       "      <th></th>\n",
       "      <th></th>\n",
       "      <th></th>\n",
       "      <th></th>\n",
       "      <th></th>\n",
       "    </tr>\n",
       "  </thead>\n",
       "  <tbody>\n",
       "    <tr>\n",
       "      <th>10990027692</th>\n",
       "      <td>2024-02-28T13:15:16-07:00</td>\n",
       "      <td>a71209417cc69068db96287dcfa258e84a19b36c443521...</td>\n",
       "      <td>c6434d50f03dc3225343d08cb75b120e19dc21937007da...</td>\n",
       "      <td>24.4.78</td>\n",
       "      <td>1</td>\n",
       "      <td>Status sounds</td>\n",
       "      <td>No sound comes from status videos after I upda...</td>\n",
       "      <td>https://itunes.apple.com/au/review?id=13864129...</td>\n",
       "      <td>AU</td>\n",
       "      <td>1386412985</td>\n",
       "    </tr>\n",
       "    <tr>\n",
       "      <th>10939311897</th>\n",
       "      <td>2024-02-14T14:47:02-07:00</td>\n",
       "      <td>9f7302dde70e971b057aa14cec1d26479a9362da32e9ed...</td>\n",
       "      <td>55105d432b1d6c664523f5de2576a199f8ffa8d8c20e8a...</td>\n",
       "      <td>24.3.76</td>\n",
       "      <td>2</td>\n",
       "      <td>Calls</td>\n",
       "      <td>Every time I’m on a phone call, it either cut ...</td>\n",
       "      <td>https://itunes.apple.com/au/review?id=13864129...</td>\n",
       "      <td>AU</td>\n",
       "      <td>1386412985</td>\n",
       "    </tr>\n",
       "    <tr>\n",
       "      <th>10932303253</th>\n",
       "      <td>2024-02-12T15:54:56-07:00</td>\n",
       "      <td>ee939200223a21c2bdea5d17ef0ae2d9a03acfbb914c73...</td>\n",
       "      <td>1c044d9599692ebd0d50f4fb8d886f622ee02c549d76f8...</td>\n",
       "      <td>24.3.76</td>\n",
       "      <td>4</td>\n",
       "      <td>Recommendations</td>\n",
       "      <td>I like being to have a separate account/app fo...</td>\n",
       "      <td>https://itunes.apple.com/au/review?id=13864129...</td>\n",
       "      <td>AU</td>\n",
       "      <td>1386412985</td>\n",
       "    </tr>\n",
       "  </tbody>\n",
       "</table>\n",
       "</div>"
      ],
      "text/plain": [
       "                                  date  \\\n",
       "id                                       \n",
       "10990027692  2024-02-28T13:15:16-07:00   \n",
       "10939311897  2024-02-14T14:47:02-07:00   \n",
       "10932303253  2024-02-12T15:54:56-07:00   \n",
       "\n",
       "                                                      userName  \\\n",
       "id                                                               \n",
       "10990027692  a71209417cc69068db96287dcfa258e84a19b36c443521...   \n",
       "10939311897  9f7302dde70e971b057aa14cec1d26479a9362da32e9ed...   \n",
       "10932303253  ee939200223a21c2bdea5d17ef0ae2d9a03acfbb914c73...   \n",
       "\n",
       "                                                       userUrl  version  \\\n",
       "id                                                                        \n",
       "10990027692  c6434d50f03dc3225343d08cb75b120e19dc21937007da...  24.4.78   \n",
       "10939311897  55105d432b1d6c664523f5de2576a199f8ffa8d8c20e8a...  24.3.76   \n",
       "10932303253  1c044d9599692ebd0d50f4fb8d886f622ee02c549d76f8...  24.3.76   \n",
       "\n",
       "             score            title  \\\n",
       "id                                    \n",
       "10990027692      1    Status sounds   \n",
       "10939311897      2            Calls   \n",
       "10932303253      4  Recommendations   \n",
       "\n",
       "                                                          text  \\\n",
       "id                                                               \n",
       "10990027692  No sound comes from status videos after I upda...   \n",
       "10939311897  Every time I’m on a phone call, it either cut ...   \n",
       "10932303253  I like being to have a separate account/app fo...   \n",
       "\n",
       "                                                           url country  \\\n",
       "id                                                                       \n",
       "10990027692  https://itunes.apple.com/au/review?id=13864129...      AU   \n",
       "10939311897  https://itunes.apple.com/au/review?id=13864129...      AU   \n",
       "10932303253  https://itunes.apple.com/au/review?id=13864129...      AU   \n",
       "\n",
       "                  appId  \n",
       "id                       \n",
       "10990027692  1386412985  \n",
       "10939311897  1386412985  \n",
       "10932303253  1386412985  "
      ]
     },
     "execution_count": 3,
     "metadata": {},
     "output_type": "execute_result"
    }
   ],
   "source": [
    "raw_data=pd.read_csv('hashed_wab_reviews.csv', index_col='id')\n",
    "raw_data.head(3)"
   ]
  },
  {
   "cell_type": "code",
   "execution_count": 4,
   "id": "12904e16-4070-4155-9d26-187984f5ad6c",
   "metadata": {},
   "outputs": [
    {
     "data": {
      "text/plain": [
       "(1459, 10)"
      ]
     },
     "execution_count": 4,
     "metadata": {},
     "output_type": "execute_result"
    }
   ],
   "source": [
    "raw_data.shape"
   ]
  },
  {
   "cell_type": "code",
   "execution_count": 5,
   "id": "4f235788-0d15-4fa5-8084-02c1c7d75452",
   "metadata": {},
   "outputs": [
    {
     "data": {
      "text/plain": [
       "date        1091\n",
       "userName    1091\n",
       "userUrl     1091\n",
       "version      148\n",
       "score          5\n",
       "title        980\n",
       "text        1070\n",
       "url            4\n",
       "country        4\n",
       "appId          1\n",
       "dtype: int64"
      ]
     },
     "execution_count": 5,
     "metadata": {},
     "output_type": "execute_result"
    }
   ],
   "source": [
    "raw_data.nunique()"
   ]
  },
  {
   "cell_type": "code",
   "execution_count": 10,
   "id": "de19acfd-db86-468a-bb30-195d584bfd77",
   "metadata": {},
   "outputs": [
    {
     "data": {
      "text/plain": [
       "<Axes: xlabel='score', ylabel='Count'>"
      ]
     },
     "execution_count": 10,
     "metadata": {},
     "output_type": "execute_result"
    },
    {
     "data": {
      "image/png": "[encoded data removed]",
      "text/plain": [
       "<Figure size 640x480 with 1 Axes>"
      ]
     },
     "metadata": {},
     "output_type": "display_data"
    }
   ],
   "source": [
    "sns.histplot(\n",
    "    data=raw_data,\n",
    "    x='score',\n",
    "    hue='country',\n",
    "    multiple='dodge'\n",
    ")"
   ]
  },
  {
   "cell_type": "code",
   "execution_count": null,
   "id": "f8b07e3d-14bd-4417-a592-a6c1a2c2e2ff",
   "metadata": {},
   "outputs": [],
   "source": []
  },
  {
   "cell_type": "code",
   "execution_count": null,
   "id": "238b30c7-a465-4d78-99dc-511470afc4d4",
   "metadata": {},
   "outputs": [],
   "source": []
  }
 ],
 "metadata": {
  "kernelspec": {
   "display_name": "Python 3 (ipykernel)",
   "language": "python",
   "name": "python3"
  },
  "language_info": {
   "codemirror_mode": {
    "name": "ipython",
    "version": 3
   },
   "file_extension": ".py",
   "mimetype": "text/x-python",
   "name": "python",
   "nbconvert_exporter": "python",
   "pygments_lexer": "ipython3",
   "version": "3.11.5"
  }
 },
 "nbformat": 4,
 "nbformat_minor": 5
}
