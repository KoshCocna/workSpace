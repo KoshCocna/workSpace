{
 "cells": [
  {
   "cell_type": "code",
   "execution_count": 1,
   "id": "56777790-3b75-4205-8728-a53bc2ca683b",
   "metadata": {},
   "outputs": [],
   "source": [
    "import pandas as pd\n",
    "import seaborn as sns\n",
    "import warnings"
   ]
  },
  {
   "cell_type": "code",
   "execution_count": 2,
   "id": "2d9f5877-f773-4e78-b598-d8f37bebec99",
   "metadata": {},
   "outputs": [],
   "source": [
    "warnings.filterwarnings('ignore')"
   ]
  },
  {
   "cell_type": "code",
   "execution_count": 17,
   "id": "73f90837-7d1a-46de-9e47-424c806584e2",
   "metadata": {},
   "outputs": [],
   "source": [
    "school=pd.read_csv('School_Attendance_by_Student_Group.csv').dropna(how='any')"
   ]
  },
  {
   "cell_type": "code",
   "execution_count": 7,
   "id": "49a31649-3c28-45aa-96c5-4bc5a42d45a2",
   "metadata": {},
   "outputs": [
    {
     "name": "stdout",
     "output_type": "stream",
     "text": [
      "<class 'pandas.core.frame.DataFrame'>\n",
      "Index: 1742 entries, 1 to 2018\n",
      "Data columns (total 12 columns):\n",
      " #   Column                                    Non-Null Count  Dtype  \n",
      "---  ------                                    --------------  -----  \n",
      " 0   District code                             1742 non-null   object \n",
      " 1   District name                             1742 non-null   object \n",
      " 2   Category                                  1742 non-null   object \n",
      " 3   Student group                             1742 non-null   object \n",
      " 4   2021-2022 student count - year to date    1742 non-null   int64  \n",
      " 5   2021-2022 attendance rate - year to date  1742 non-null   float64\n",
      " 6   2020-2021 student count                   1742 non-null   float64\n",
      " 7   2020-2021 attendance rate                 1742 non-null   float64\n",
      " 8   2019-2020 student count                   1742 non-null   float64\n",
      " 9   2019-2020 attendance rate                 1742 non-null   float64\n",
      " 10  Reporting period                          1742 non-null   object \n",
      " 11  Date update                               1742 non-null   object \n",
      "dtypes: float64(5), int64(1), object(6)\n",
      "memory usage: 176.9+ KB\n"
     ]
    }
   ],
   "source": [
    "school.info()"
   ]
  },
  {
   "cell_type": "code",
   "execution_count": 8,
   "id": "de5fb64c-e765-47a4-bcf8-5016ea387567",
   "metadata": {},
   "outputs": [
    {
     "data": {
      "text/plain": [
       "District code                               199\n",
       "District name                               199\n",
       "Category                                      6\n",
       "Student group                                12\n",
       "2021-2022 student count - year to date      961\n",
       "2021-2022 attendance rate - year to date    798\n",
       "2020-2021 student count                     970\n",
       "2020-2021 attendance rate                   933\n",
       "2019-2020 student count                     981\n",
       "2019-2020 attendance rate                   541\n",
       "Reporting period                              1\n",
       "Date update                                   1\n",
       "dtype: int64"
      ]
     },
     "execution_count": 8,
     "metadata": {},
     "output_type": "execute_result"
    }
   ],
   "source": [
    "school.nunique()"
   ]
  },
  {
   "cell_type": "code",
   "execution_count": 18,
   "id": "9366a6f4-410e-4a22-981a-cc3caf10399b",
   "metadata": {},
   "outputs": [],
   "source": [
    "school=school.drop(['District code','Date update','Reporting period'], axis=1)"
   ]
  },
  {
   "cell_type": "code",
   "execution_count": 19,
   "id": "1a88d7af-40a4-4600-8455-20bf868da4b7",
   "metadata": {},
   "outputs": [],
   "source": [
    "school=school.rename(columns={'2021-2022 student count - year to date':'2021-2022 student count','2021-2022 attendance rate - year to date':'2021-2022 attendance rate'})"
   ]
  },
  {
   "cell_type": "code",
   "execution_count": 21,
   "id": "0d6cb376-f2ae-49bc-b488-15bbba83bf83",
   "metadata": {},
   "outputs": [
    {
     "data": {
      "text/plain": [
       "District name                199\n",
       "Category                       6\n",
       "Student group                 12\n",
       "2021-2022 student count      961\n",
       "2021-2022 attendance rate    798\n",
       "2020-2021 student count      970\n",
       "2020-2021 attendance rate    933\n",
       "2019-2020 student count      981\n",
       "2019-2020 attendance rate    541\n",
       "dtype: int64"
      ]
     },
     "execution_count": 21,
     "metadata": {},
     "output_type": "execute_result"
    }
   ],
   "source": [
    "school.nunique()"
   ]
  },
  {
   "cell_type": "code",
   "execution_count": 22,
   "id": "18c8b0df-33e8-4570-84ea-4687dc798dad",
   "metadata": {},
   "outputs": [
    {
     "data": {
      "text/html": [
       "<div>\n",
       "<style scoped>\n",
       "    .dataframe tbody tr th:only-of-type {\n",
       "        vertical-align: middle;\n",
       "    }\n",
       "\n",
       "    .dataframe tbody tr th {\n",
       "        vertical-align: top;\n",
       "    }\n",
       "\n",
       "    .dataframe thead th {\n",
       "        text-align: right;\n",
       "    }\n",
       "</style>\n",
       "<table border=\"1\" class=\"dataframe\">\n",
       "  <thead>\n",
       "    <tr style=\"text-align: right;\">\n",
       "      <th></th>\n",
       "      <th>District name</th>\n",
       "      <th>Category</th>\n",
       "      <th>Student group</th>\n",
       "      <th>2021-2022 student count</th>\n",
       "      <th>2021-2022 attendance rate</th>\n",
       "      <th>2020-2021 student count</th>\n",
       "      <th>2020-2021 attendance rate</th>\n",
       "      <th>2019-2020 student count</th>\n",
       "      <th>2019-2020 attendance rate</th>\n",
       "    </tr>\n",
       "  </thead>\n",
       "  <tbody>\n",
       "    <tr>\n",
       "      <th>1</th>\n",
       "      <td>Connecticut</td>\n",
       "      <td>Homelessness</td>\n",
       "      <td>Students Experiencing Homelessness</td>\n",
       "      <td>1814</td>\n",
       "      <td>0.8348</td>\n",
       "      <td>1735.0</td>\n",
       "      <td>0.8155</td>\n",
       "      <td>3916.0</td>\n",
       "      <td>0.8884</td>\n",
       "    </tr>\n",
       "    <tr>\n",
       "      <th>2</th>\n",
       "      <td>Connecticut</td>\n",
       "      <td>Students With Disabilities</td>\n",
       "      <td>Students With Disabilities</td>\n",
       "      <td>78417</td>\n",
       "      <td>0.8899</td>\n",
       "      <td>76487.0</td>\n",
       "      <td>0.8946</td>\n",
       "      <td>80365.0</td>\n",
       "      <td>0.9277</td>\n",
       "    </tr>\n",
       "    <tr>\n",
       "      <th>3</th>\n",
       "      <td>Connecticut</td>\n",
       "      <td>Free/Reduced Lunch</td>\n",
       "      <td>Free Meal Eligible</td>\n",
       "      <td>168984</td>\n",
       "      <td>0.8851</td>\n",
       "      <td>176225.0</td>\n",
       "      <td>0.8861</td>\n",
       "      <td>193706.0</td>\n",
       "      <td>0.9314</td>\n",
       "    </tr>\n",
       "  </tbody>\n",
       "</table>\n",
       "</div>"
      ],
      "text/plain": [
       "  District name                    Category  \\\n",
       "1   Connecticut                Homelessness   \n",
       "2   Connecticut  Students With Disabilities   \n",
       "3   Connecticut          Free/Reduced Lunch   \n",
       "\n",
       "                        Student group  2021-2022 student count  \\\n",
       "1  Students Experiencing Homelessness                     1814   \n",
       "2          Students With Disabilities                    78417   \n",
       "3                  Free Meal Eligible                   168984   \n",
       "\n",
       "   2021-2022 attendance rate  2020-2021 student count  \\\n",
       "1                     0.8348                   1735.0   \n",
       "2                     0.8899                  76487.0   \n",
       "3                     0.8851                 176225.0   \n",
       "\n",
       "   2020-2021 attendance rate  2019-2020 student count  \\\n",
       "1                     0.8155                   3916.0   \n",
       "2                     0.8946                  80365.0   \n",
       "3                     0.8861                 193706.0   \n",
       "\n",
       "   2019-2020 attendance rate  \n",
       "1                     0.8884  \n",
       "2                     0.9277  \n",
       "3                     0.9314  "
      ]
     },
     "execution_count": 22,
     "metadata": {},
     "output_type": "execute_result"
    }
   ],
   "source": [
    "school.head(3)"
   ]
  },
  {
   "cell_type": "code",
   "execution_count": 60,
   "id": "07568f12-1ce4-4c37-9953-5d5b8301d11b",
   "metadata": {},
   "outputs": [
    {
     "data": {
      "text/plain": [
       "Category\n",
       "English Learners                90193.0\n",
       "Free/Reduced Lunch             878524.0\n",
       "High Needs                    1016139.0\n",
       "Homelessness                     6474.0\n",
       "Race/Ethnicity                1011765.0\n",
       "Students With Disabilities     160200.0\n",
       "Name: 2019-2020 student count, dtype: float64"
      ]
     },
     "execution_count": 60,
     "metadata": {},
     "output_type": "execute_result"
    }
   ],
   "source": [
    "students_category_2021_2022=school.groupby(by=['Category'])['2021-2022 student count'].sum()\n",
    "students_category_2020_2021=school.groupby(by=['Category'])['2020-2021 student count'].sum()\n",
    "students_category_2019_2020=school.groupby(by=['Category'])['2019-2020 student count'].sum()\n",
    "students_category_2019_2020"
   ]
  },
  {
   "cell_type": "code",
   "execution_count": 61,
   "id": "22ecb23e-1d6d-4d7e-b50a-a19b8da5f487",
   "metadata": {},
   "outputs": [
    {
     "data": {
      "text/html": [
       "<div>\n",
       "<style scoped>\n",
       "    .dataframe tbody tr th:only-of-type {\n",
       "        vertical-align: middle;\n",
       "    }\n",
       "\n",
       "    .dataframe tbody tr th {\n",
       "        vertical-align: top;\n",
       "    }\n",
       "\n",
       "    .dataframe thead th {\n",
       "        text-align: right;\n",
       "    }\n",
       "</style>\n",
       "<table border=\"1\" class=\"dataframe\">\n",
       "  <thead>\n",
       "    <tr style=\"text-align: right;\">\n",
       "      <th></th>\n",
       "      <th>category</th>\n",
       "      <th>number</th>\n",
       "    </tr>\n",
       "  </thead>\n",
       "  <tbody>\n",
       "    <tr>\n",
       "      <th>0</th>\n",
       "      <td>English Learners</td>\n",
       "      <td>90193.0</td>\n",
       "    </tr>\n",
       "    <tr>\n",
       "      <th>1</th>\n",
       "      <td>Free/Reduced Lunch</td>\n",
       "      <td>878524.0</td>\n",
       "    </tr>\n",
       "    <tr>\n",
       "      <th>2</th>\n",
       "      <td>High Needs</td>\n",
       "      <td>1016139.0</td>\n",
       "    </tr>\n",
       "    <tr>\n",
       "      <th>3</th>\n",
       "      <td>Homelessness</td>\n",
       "      <td>6474.0</td>\n",
       "    </tr>\n",
       "    <tr>\n",
       "      <th>4</th>\n",
       "      <td>Race/Ethnicity</td>\n",
       "      <td>1011765.0</td>\n",
       "    </tr>\n",
       "    <tr>\n",
       "      <th>5</th>\n",
       "      <td>Students With Disabilities</td>\n",
       "      <td>160200.0</td>\n",
       "    </tr>\n",
       "  </tbody>\n",
       "</table>\n",
       "</div>"
      ],
      "text/plain": [
       "                     category     number\n",
       "0            English Learners    90193.0\n",
       "1          Free/Reduced Lunch   878524.0\n",
       "2                  High Needs  1016139.0\n",
       "3                Homelessness     6474.0\n",
       "4              Race/Ethnicity  1011765.0\n",
       "5  Students With Disabilities   160200.0"
      ]
     },
     "execution_count": 61,
     "metadata": {},
     "output_type": "execute_result"
    }
   ],
   "source": [
    "students_category_2019_2020=pd.DataFrame({'category':students_category_2019_2020.index, 'number':students_category_2019_2020.values })\n",
    "students_category_2020_2021=pd.DataFrame({'category':students_category_2020_2021.index, 'number':students_category_2020_2021.values })\n",
    "students_category_2021_2022=pd.DataFrame({'category':students_category_2021_2022.index, 'number':students_category_2021_2022.values })\n",
    "\n",
    "students_category_2019_2020"
   ]
  },
  {
   "cell_type": "code",
   "execution_count": 62,
   "id": "3e1105a2-749a-44c3-a6d5-641aad0bae45",
   "metadata": {},
   "outputs": [
    {
     "data": {
      "text/html": [
       "<div>\n",
       "<style scoped>\n",
       "    .dataframe tbody tr th:only-of-type {\n",
       "        vertical-align: middle;\n",
       "    }\n",
       "\n",
       "    .dataframe tbody tr th {\n",
       "        vertical-align: top;\n",
       "    }\n",
       "\n",
       "    .dataframe thead th {\n",
       "        text-align: right;\n",
       "    }\n",
       "</style>\n",
       "<table border=\"1\" class=\"dataframe\">\n",
       "  <thead>\n",
       "    <tr style=\"text-align: right;\">\n",
       "      <th></th>\n",
       "      <th>category</th>\n",
       "      <th>number</th>\n",
       "    </tr>\n",
       "  </thead>\n",
       "  <tbody>\n",
       "    <tr>\n",
       "      <th>0</th>\n",
       "      <td>English Learners</td>\n",
       "      <td>80678.0</td>\n",
       "    </tr>\n",
       "    <tr>\n",
       "      <th>1</th>\n",
       "      <td>Free/Reduced Lunch</td>\n",
       "      <td>822235.0</td>\n",
       "    </tr>\n",
       "    <tr>\n",
       "      <th>2</th>\n",
       "      <td>High Needs</td>\n",
       "      <td>974864.0</td>\n",
       "    </tr>\n",
       "    <tr>\n",
       "      <th>3</th>\n",
       "      <td>Homelessness</td>\n",
       "      <td>2946.0</td>\n",
       "    </tr>\n",
       "    <tr>\n",
       "      <th>4</th>\n",
       "      <td>Race/Ethnicity</td>\n",
       "      <td>987338.0</td>\n",
       "    </tr>\n",
       "    <tr>\n",
       "      <th>5</th>\n",
       "      <td>Students With Disabilities</td>\n",
       "      <td>152557.0</td>\n",
       "    </tr>\n",
       "  </tbody>\n",
       "</table>\n",
       "</div>"
      ],
      "text/plain": [
       "                     category    number\n",
       "0            English Learners   80678.0\n",
       "1          Free/Reduced Lunch  822235.0\n",
       "2                  High Needs  974864.0\n",
       "3                Homelessness    2946.0\n",
       "4              Race/Ethnicity  987338.0\n",
       "5  Students With Disabilities  152557.0"
      ]
     },
     "execution_count": 62,
     "metadata": {},
     "output_type": "execute_result"
    }
   ],
   "source": [
    "students_category_2020_2021"
   ]
  },
  {
   "cell_type": "code",
   "execution_count": 63,
   "id": "98f8d7e7-466f-428e-a951-9ac96d709262",
   "metadata": {},
   "outputs": [],
   "source": [
    "students_category_2019_2020.insert(0,'year',2019)\n",
    "students_category_2020_2021.insert(0,'year',2020)\n",
    "students_category_2021_2022.insert(0,'year',2021)"
   ]
  },
  {
   "cell_type": "code",
   "execution_count": 64,
   "id": "f361d77e-d95d-4dcd-849f-0e35ee70b750",
   "metadata": {},
   "outputs": [
    {
     "data": {
      "text/html": [
       "<div>\n",
       "<style scoped>\n",
       "    .dataframe tbody tr th:only-of-type {\n",
       "        vertical-align: middle;\n",
       "    }\n",
       "\n",
       "    .dataframe tbody tr th {\n",
       "        vertical-align: top;\n",
       "    }\n",
       "\n",
       "    .dataframe thead th {\n",
       "        text-align: right;\n",
       "    }\n",
       "</style>\n",
       "<table border=\"1\" class=\"dataframe\">\n",
       "  <thead>\n",
       "    <tr style=\"text-align: right;\">\n",
       "      <th></th>\n",
       "      <th>year</th>\n",
       "      <th>category</th>\n",
       "      <th>number</th>\n",
       "    </tr>\n",
       "  </thead>\n",
       "  <tbody>\n",
       "    <tr>\n",
       "      <th>0</th>\n",
       "      <td>2020</td>\n",
       "      <td>English Learners</td>\n",
       "      <td>80678.0</td>\n",
       "    </tr>\n",
       "    <tr>\n",
       "      <th>1</th>\n",
       "      <td>2020</td>\n",
       "      <td>Free/Reduced Lunch</td>\n",
       "      <td>822235.0</td>\n",
       "    </tr>\n",
       "    <tr>\n",
       "      <th>2</th>\n",
       "      <td>2020</td>\n",
       "      <td>High Needs</td>\n",
       "      <td>974864.0</td>\n",
       "    </tr>\n",
       "    <tr>\n",
       "      <th>3</th>\n",
       "      <td>2020</td>\n",
       "      <td>Homelessness</td>\n",
       "      <td>2946.0</td>\n",
       "    </tr>\n",
       "    <tr>\n",
       "      <th>4</th>\n",
       "      <td>2020</td>\n",
       "      <td>Race/Ethnicity</td>\n",
       "      <td>987338.0</td>\n",
       "    </tr>\n",
       "    <tr>\n",
       "      <th>5</th>\n",
       "      <td>2020</td>\n",
       "      <td>Students With Disabilities</td>\n",
       "      <td>152557.0</td>\n",
       "    </tr>\n",
       "  </tbody>\n",
       "</table>\n",
       "</div>"
      ],
      "text/plain": [
       "   year                    category    number\n",
       "0  2020            English Learners   80678.0\n",
       "1  2020          Free/Reduced Lunch  822235.0\n",
       "2  2020                  High Needs  974864.0\n",
       "3  2020                Homelessness    2946.0\n",
       "4  2020              Race/Ethnicity  987338.0\n",
       "5  2020  Students With Disabilities  152557.0"
      ]
     },
     "execution_count": 64,
     "metadata": {},
     "output_type": "execute_result"
    }
   ],
   "source": [
    "students_category_2020_2021"
   ]
  },
  {
   "cell_type": "code",
   "execution_count": 65,
   "id": "5f366a17-5fbe-465b-b171-a0b80149f7ab",
   "metadata": {},
   "outputs": [
    {
     "data": {
      "text/html": [
       "<div>\n",
       "<style scoped>\n",
       "    .dataframe tbody tr th:only-of-type {\n",
       "        vertical-align: middle;\n",
       "    }\n",
       "\n",
       "    .dataframe tbody tr th {\n",
       "        vertical-align: top;\n",
       "    }\n",
       "\n",
       "    .dataframe thead th {\n",
       "        text-align: right;\n",
       "    }\n",
       "</style>\n",
       "<table border=\"1\" class=\"dataframe\">\n",
       "  <thead>\n",
       "    <tr style=\"text-align: right;\">\n",
       "      <th></th>\n",
       "      <th>year</th>\n",
       "      <th>category</th>\n",
       "      <th>number</th>\n",
       "    </tr>\n",
       "  </thead>\n",
       "  <tbody>\n",
       "    <tr>\n",
       "      <th>0</th>\n",
       "      <td>2021</td>\n",
       "      <td>English Learners</td>\n",
       "      <td>86370</td>\n",
       "    </tr>\n",
       "    <tr>\n",
       "      <th>1</th>\n",
       "      <td>2021</td>\n",
       "      <td>Free/Reduced Lunch</td>\n",
       "      <td>788433</td>\n",
       "    </tr>\n",
       "    <tr>\n",
       "      <th>2</th>\n",
       "      <td>2021</td>\n",
       "      <td>High Needs</td>\n",
       "      <td>977320</td>\n",
       "    </tr>\n",
       "    <tr>\n",
       "      <th>3</th>\n",
       "      <td>2021</td>\n",
       "      <td>Homelessness</td>\n",
       "      <td>3056</td>\n",
       "    </tr>\n",
       "    <tr>\n",
       "      <th>4</th>\n",
       "      <td>2021</td>\n",
       "      <td>Race/Ethnicity</td>\n",
       "      <td>994440</td>\n",
       "    </tr>\n",
       "    <tr>\n",
       "      <th>5</th>\n",
       "      <td>2021</td>\n",
       "      <td>Students With Disabilities</td>\n",
       "      <td>156229</td>\n",
       "    </tr>\n",
       "  </tbody>\n",
       "</table>\n",
       "</div>"
      ],
      "text/plain": [
       "   year                    category  number\n",
       "0  2021            English Learners   86370\n",
       "1  2021          Free/Reduced Lunch  788433\n",
       "2  2021                  High Needs  977320\n",
       "3  2021                Homelessness    3056\n",
       "4  2021              Race/Ethnicity  994440\n",
       "5  2021  Students With Disabilities  156229"
      ]
     },
     "execution_count": 65,
     "metadata": {},
     "output_type": "execute_result"
    }
   ],
   "source": [
    "students_category_2021_2022"
   ]
  },
  {
   "cell_type": "code",
   "execution_count": 66,
   "id": "3ad5e281-21a8-4812-b565-e471e352941c",
   "metadata": {},
   "outputs": [],
   "source": [
    "total_students_category = pd.DataFrame(columns=['year','category','number'])"
   ]
  },
  {
   "cell_type": "code",
   "execution_count": 67,
   "id": "1c269c58-a1e3-4ef9-96e0-91c15f076171",
   "metadata": {},
   "outputs": [
    {
     "data": {
      "text/html": [
       "<div>\n",
       "<style scoped>\n",
       "    .dataframe tbody tr th:only-of-type {\n",
       "        vertical-align: middle;\n",
       "    }\n",
       "\n",
       "    .dataframe tbody tr th {\n",
       "        vertical-align: top;\n",
       "    }\n",
       "\n",
       "    .dataframe thead th {\n",
       "        text-align: right;\n",
       "    }\n",
       "</style>\n",
       "<table border=\"1\" class=\"dataframe\">\n",
       "  <thead>\n",
       "    <tr style=\"text-align: right;\">\n",
       "      <th></th>\n",
       "      <th>year</th>\n",
       "      <th>category</th>\n",
       "      <th>number</th>\n",
       "    </tr>\n",
       "  </thead>\n",
       "  <tbody>\n",
       "    <tr>\n",
       "      <th>0</th>\n",
       "      <td>2019</td>\n",
       "      <td>English Learners</td>\n",
       "      <td>90193.0</td>\n",
       "    </tr>\n",
       "    <tr>\n",
       "      <th>1</th>\n",
       "      <td>2019</td>\n",
       "      <td>Free/Reduced Lunch</td>\n",
       "      <td>878524.0</td>\n",
       "    </tr>\n",
       "    <tr>\n",
       "      <th>2</th>\n",
       "      <td>2019</td>\n",
       "      <td>High Needs</td>\n",
       "      <td>1016139.0</td>\n",
       "    </tr>\n",
       "    <tr>\n",
       "      <th>3</th>\n",
       "      <td>2019</td>\n",
       "      <td>Homelessness</td>\n",
       "      <td>6474.0</td>\n",
       "    </tr>\n",
       "    <tr>\n",
       "      <th>4</th>\n",
       "      <td>2019</td>\n",
       "      <td>Race/Ethnicity</td>\n",
       "      <td>1011765.0</td>\n",
       "    </tr>\n",
       "    <tr>\n",
       "      <th>5</th>\n",
       "      <td>2019</td>\n",
       "      <td>Students With Disabilities</td>\n",
       "      <td>160200.0</td>\n",
       "    </tr>\n",
       "    <tr>\n",
       "      <th>6</th>\n",
       "      <td>2020</td>\n",
       "      <td>English Learners</td>\n",
       "      <td>80678.0</td>\n",
       "    </tr>\n",
       "    <tr>\n",
       "      <th>7</th>\n",
       "      <td>2020</td>\n",
       "      <td>Free/Reduced Lunch</td>\n",
       "      <td>822235.0</td>\n",
       "    </tr>\n",
       "    <tr>\n",
       "      <th>8</th>\n",
       "      <td>2020</td>\n",
       "      <td>High Needs</td>\n",
       "      <td>974864.0</td>\n",
       "    </tr>\n",
       "    <tr>\n",
       "      <th>9</th>\n",
       "      <td>2020</td>\n",
       "      <td>Homelessness</td>\n",
       "      <td>2946.0</td>\n",
       "    </tr>\n",
       "    <tr>\n",
       "      <th>10</th>\n",
       "      <td>2020</td>\n",
       "      <td>Race/Ethnicity</td>\n",
       "      <td>987338.0</td>\n",
       "    </tr>\n",
       "    <tr>\n",
       "      <th>11</th>\n",
       "      <td>2020</td>\n",
       "      <td>Students With Disabilities</td>\n",
       "      <td>152557.0</td>\n",
       "    </tr>\n",
       "    <tr>\n",
       "      <th>12</th>\n",
       "      <td>2021</td>\n",
       "      <td>English Learners</td>\n",
       "      <td>86370.0</td>\n",
       "    </tr>\n",
       "    <tr>\n",
       "      <th>13</th>\n",
       "      <td>2021</td>\n",
       "      <td>Free/Reduced Lunch</td>\n",
       "      <td>788433.0</td>\n",
       "    </tr>\n",
       "    <tr>\n",
       "      <th>14</th>\n",
       "      <td>2021</td>\n",
       "      <td>High Needs</td>\n",
       "      <td>977320.0</td>\n",
       "    </tr>\n",
       "    <tr>\n",
       "      <th>15</th>\n",
       "      <td>2021</td>\n",
       "      <td>Homelessness</td>\n",
       "      <td>3056.0</td>\n",
       "    </tr>\n",
       "    <tr>\n",
       "      <th>16</th>\n",
       "      <td>2021</td>\n",
       "      <td>Race/Ethnicity</td>\n",
       "      <td>994440.0</td>\n",
       "    </tr>\n",
       "    <tr>\n",
       "      <th>17</th>\n",
       "      <td>2021</td>\n",
       "      <td>Students With Disabilities</td>\n",
       "      <td>156229.0</td>\n",
       "    </tr>\n",
       "  </tbody>\n",
       "</table>\n",
       "</div>"
      ],
      "text/plain": [
       "    year                    category     number\n",
       "0   2019            English Learners    90193.0\n",
       "1   2019          Free/Reduced Lunch   878524.0\n",
       "2   2019                  High Needs  1016139.0\n",
       "3   2019                Homelessness     6474.0\n",
       "4   2019              Race/Ethnicity  1011765.0\n",
       "5   2019  Students With Disabilities   160200.0\n",
       "6   2020            English Learners    80678.0\n",
       "7   2020          Free/Reduced Lunch   822235.0\n",
       "8   2020                  High Needs   974864.0\n",
       "9   2020                Homelessness     2946.0\n",
       "10  2020              Race/Ethnicity   987338.0\n",
       "11  2020  Students With Disabilities   152557.0\n",
       "12  2021            English Learners    86370.0\n",
       "13  2021          Free/Reduced Lunch   788433.0\n",
       "14  2021                  High Needs   977320.0\n",
       "15  2021                Homelessness     3056.0\n",
       "16  2021              Race/Ethnicity   994440.0\n",
       "17  2021  Students With Disabilities   156229.0"
      ]
     },
     "execution_count": 67,
     "metadata": {},
     "output_type": "execute_result"
    }
   ],
   "source": [
    "total_students_category=pd.concat([total_students_category, students_category_2019_2020,students_category_2020_2021,students_category_2021_2022],ignore_index=True)\n",
    "total_students_category"
   ]
  },
  {
   "cell_type": "code",
   "execution_count": 68,
   "id": "d99e2e6b-eadb-4e15-8e52-b89a0cc799c5",
   "metadata": {},
   "outputs": [
    {
     "data": {
      "text/html": [
       "<div>\n",
       "<style scoped>\n",
       "    .dataframe tbody tr th:only-of-type {\n",
       "        vertical-align: middle;\n",
       "    }\n",
       "\n",
       "    .dataframe tbody tr th {\n",
       "        vertical-align: top;\n",
       "    }\n",
       "\n",
       "    .dataframe thead th {\n",
       "        text-align: right;\n",
       "    }\n",
       "</style>\n",
       "<table border=\"1\" class=\"dataframe\">\n",
       "  <thead>\n",
       "    <tr style=\"text-align: right;\">\n",
       "      <th>category</th>\n",
       "      <th>English Learners</th>\n",
       "      <th>Free/Reduced Lunch</th>\n",
       "      <th>High Needs</th>\n",
       "      <th>Homelessness</th>\n",
       "      <th>Race/Ethnicity</th>\n",
       "      <th>Students With Disabilities</th>\n",
       "    </tr>\n",
       "    <tr>\n",
       "      <th>year</th>\n",
       "      <th></th>\n",
       "      <th></th>\n",
       "      <th></th>\n",
       "      <th></th>\n",
       "      <th></th>\n",
       "      <th></th>\n",
       "    </tr>\n",
       "  </thead>\n",
       "  <tbody>\n",
       "    <tr>\n",
       "      <th>2019</th>\n",
       "      <td>90193.0</td>\n",
       "      <td>878524.0</td>\n",
       "      <td>1016139.0</td>\n",
       "      <td>6474.0</td>\n",
       "      <td>1011765.0</td>\n",
       "      <td>160200.0</td>\n",
       "    </tr>\n",
       "    <tr>\n",
       "      <th>2020</th>\n",
       "      <td>80678.0</td>\n",
       "      <td>822235.0</td>\n",
       "      <td>974864.0</td>\n",
       "      <td>2946.0</td>\n",
       "      <td>987338.0</td>\n",
       "      <td>152557.0</td>\n",
       "    </tr>\n",
       "    <tr>\n",
       "      <th>2021</th>\n",
       "      <td>86370.0</td>\n",
       "      <td>788433.0</td>\n",
       "      <td>977320.0</td>\n",
       "      <td>3056.0</td>\n",
       "      <td>994440.0</td>\n",
       "      <td>156229.0</td>\n",
       "    </tr>\n",
       "  </tbody>\n",
       "</table>\n",
       "</div>"
      ],
      "text/plain": [
       "category  English Learners  Free/Reduced Lunch  High Needs  Homelessness  \\\n",
       "year                                                                       \n",
       "2019               90193.0            878524.0   1016139.0        6474.0   \n",
       "2020               80678.0            822235.0    974864.0        2946.0   \n",
       "2021               86370.0            788433.0    977320.0        3056.0   \n",
       "\n",
       "category  Race/Ethnicity  Students With Disabilities  \n",
       "year                                                  \n",
       "2019           1011765.0                    160200.0  \n",
       "2020            987338.0                    152557.0  \n",
       "2021            994440.0                    156229.0  "
      ]
     },
     "execution_count": 68,
     "metadata": {},
     "output_type": "execute_result"
    }
   ],
   "source": [
    "total_students_category=total_students_category.pivot(index='year',columns='category',values='number')\n",
    "total_students_category"
   ]
  },
  {
   "cell_type": "code",
   "execution_count": 70,
   "id": "69c3ece7-d788-40ff-8777-8821dccf035b",
   "metadata": {},
   "outputs": [
    {
     "data": {
      "text/plain": [
       "<Axes: xlabel='category', ylabel='year'>"
      ]
     },
     "execution_count": 70,
     "metadata": {},
     "output_type": "execute_result"
    },
    {
     "data": {
      "image/png": "[encoded data removed]",
      "text/plain": [
       "<Figure size 640x480 with 2 Axes>"
      ]
     },
     "metadata": {},
     "output_type": "display_data"
    }
   ],
   "source": [
    "sns.heatmap(total_students_category, cmap='BuPu')"
   ]
  },
  {
   "cell_type": "code",
   "execution_count": 71,
   "id": "555f6066-6f1c-4a35-bbaf-25727833fc61",
   "metadata": {},
   "outputs": [
    {
     "data": {
      "text/html": [
       "<div>\n",
       "<style scoped>\n",
       "    .dataframe tbody tr th:only-of-type {\n",
       "        vertical-align: middle;\n",
       "    }\n",
       "\n",
       "    .dataframe tbody tr th {\n",
       "        vertical-align: top;\n",
       "    }\n",
       "\n",
       "    .dataframe thead th {\n",
       "        text-align: right;\n",
       "    }\n",
       "</style>\n",
       "<table border=\"1\" class=\"dataframe\">\n",
       "  <thead>\n",
       "    <tr style=\"text-align: right;\">\n",
       "      <th></th>\n",
       "      <th>District name</th>\n",
       "      <th>Category</th>\n",
       "      <th>Student group</th>\n",
       "      <th>2021-2022 student count</th>\n",
       "      <th>2021-2022 attendance rate</th>\n",
       "      <th>2020-2021 student count</th>\n",
       "      <th>2020-2021 attendance rate</th>\n",
       "      <th>2019-2020 student count</th>\n",
       "      <th>2019-2020 attendance rate</th>\n",
       "    </tr>\n",
       "  </thead>\n",
       "  <tbody>\n",
       "    <tr>\n",
       "      <th>1</th>\n",
       "      <td>Connecticut</td>\n",
       "      <td>Homelessness</td>\n",
       "      <td>Students Experiencing Homelessness</td>\n",
       "      <td>1814</td>\n",
       "      <td>0.8348</td>\n",
       "      <td>1735.0</td>\n",
       "      <td>0.8155</td>\n",
       "      <td>3916.0</td>\n",
       "      <td>0.8884</td>\n",
       "    </tr>\n",
       "    <tr>\n",
       "      <th>2</th>\n",
       "      <td>Connecticut</td>\n",
       "      <td>Students With Disabilities</td>\n",
       "      <td>Students With Disabilities</td>\n",
       "      <td>78417</td>\n",
       "      <td>0.8899</td>\n",
       "      <td>76487.0</td>\n",
       "      <td>0.8946</td>\n",
       "      <td>80365.0</td>\n",
       "      <td>0.9277</td>\n",
       "    </tr>\n",
       "    <tr>\n",
       "      <th>3</th>\n",
       "      <td>Connecticut</td>\n",
       "      <td>Free/Reduced Lunch</td>\n",
       "      <td>Free Meal Eligible</td>\n",
       "      <td>168984</td>\n",
       "      <td>0.8851</td>\n",
       "      <td>176225.0</td>\n",
       "      <td>0.8861</td>\n",
       "      <td>193706.0</td>\n",
       "      <td>0.9314</td>\n",
       "    </tr>\n",
       "  </tbody>\n",
       "</table>\n",
       "</div>"
      ],
      "text/plain": [
       "  District name                    Category  \\\n",
       "1   Connecticut                Homelessness   \n",
       "2   Connecticut  Students With Disabilities   \n",
       "3   Connecticut          Free/Reduced Lunch   \n",
       "\n",
       "                        Student group  2021-2022 student count  \\\n",
       "1  Students Experiencing Homelessness                     1814   \n",
       "2          Students With Disabilities                    78417   \n",
       "3                  Free Meal Eligible                   168984   \n",
       "\n",
       "   2021-2022 attendance rate  2020-2021 student count  \\\n",
       "1                     0.8348                   1735.0   \n",
       "2                     0.8899                  76487.0   \n",
       "3                     0.8851                 176225.0   \n",
       "\n",
       "   2020-2021 attendance rate  2019-2020 student count  \\\n",
       "1                     0.8155                   3916.0   \n",
       "2                     0.8946                  80365.0   \n",
       "3                     0.8861                 193706.0   \n",
       "\n",
       "   2019-2020 attendance rate  \n",
       "1                     0.8884  \n",
       "2                     0.9277  \n",
       "3                     0.9314  "
      ]
     },
     "execution_count": 71,
     "metadata": {},
     "output_type": "execute_result"
    }
   ],
   "source": [
    "school.head(3)"
   ]
  },
  {
   "cell_type": "code",
   "execution_count": 76,
   "id": "c24f8e38-dcb8-4b1b-81e5-be068ccba399",
   "metadata": {},
   "outputs": [
    {
     "data": {
      "text/plain": [
       "<seaborn.axisgrid.FacetGrid at 0x12badec90>"
      ]
     },
     "execution_count": 76,
     "metadata": {},
     "output_type": "execute_result"
    },
    {
     "data": {
      "image/png": "[encoded data removed]",
      "text/plain": [
       "<Figure size 728x500 with 1 Axes>"
      ]
     },
     "metadata": {},
     "output_type": "display_data"
    }
   ],
   "source": [
    "sns.lmplot(\n",
    "    data=school,\n",
    "    x='2019-2020 attendance rate',\n",
    "    y='2021-2022 attendance rate',\n",
    "    hue='Category',\n",
    "    scatter_kws={'s':3},\n",
    "    #line_kws={'s':1}\n",
    ")"
   ]
  }
 ],
 "metadata": {
  "kernelspec": {
   "display_name": "Python 3 (ipykernel)",
   "language": "python",
   "name": "python3"
  },
  "language_info": {
   "codemirror_mode": {
    "name": "ipython",
    "version": 3
   },
   "file_extension": ".py",
   "mimetype": "text/x-python",
   "name": "python",
   "nbconvert_exporter": "python",
   "pygments_lexer": "ipython3",
   "version": "3.11.5"
  }
 },
 "nbformat": 4,
 "nbformat_minor": 5
}
