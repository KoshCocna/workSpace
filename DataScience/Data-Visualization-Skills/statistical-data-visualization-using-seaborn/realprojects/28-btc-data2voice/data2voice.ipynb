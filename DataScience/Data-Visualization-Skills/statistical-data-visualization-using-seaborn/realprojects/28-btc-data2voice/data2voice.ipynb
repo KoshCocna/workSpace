{
 "cells": [
  {
   "cell_type": "code",
   "execution_count": 2,
   "id": "263c6170-1700-4bda-b8f2-9187713c0627",
   "metadata": {},
   "outputs": [],
   "source": [
    "import pandas as pd \n",
    "import seaborn as sns\n",
    "import warnings\n",
    "import numpy as np\n",
    "import sounddevice as sd"
   ]
  },
  {
   "cell_type": "code",
   "execution_count": 3,
   "id": "214aa5be-9b83-4bc3-9997-8c82f011593d",
   "metadata": {},
   "outputs": [],
   "source": [
    "warnings.filterwarnings('ignore')"
   ]
  },
  {
   "cell_type": "code",
   "execution_count": 4,
   "id": "37ab1aff-f694-4b2d-a03e-7966f11d73a9",
   "metadata": {},
   "outputs": [],
   "source": [
    "btc_raw_data=pd.read_csv('btc.csv')"
   ]
  },
  {
   "cell_type": "code",
   "execution_count": 5,
   "id": "e983fcd6-4d3c-48b6-b52b-77a3a89aea7c",
   "metadata": {},
   "outputs": [
    {
     "name": "stdout",
     "output_type": "stream",
     "text": [
      "<class 'pandas.core.frame.DataFrame'>\n",
      "RangeIndex: 4994 entries, 0 to 4993\n",
      "Data columns (total 6 columns):\n",
      " #   Column  Non-Null Count  Dtype  \n",
      "---  ------  --------------  -----  \n",
      " 0   Date    4994 non-null   object \n",
      " 1   Open    4994 non-null   float64\n",
      " 2   High    4994 non-null   float64\n",
      " 3   Low     4994 non-null   float64\n",
      " 4   Close   4994 non-null   float64\n",
      " 5   Volume  4988 non-null   float64\n",
      "dtypes: float64(5), object(1)\n",
      "memory usage: 234.2+ KB\n"
     ]
    }
   ],
   "source": [
    "btc_raw_data.info()"
   ]
  },
  {
   "cell_type": "code",
   "execution_count": 6,
   "id": "46e3dc1d-1a7c-4eab-8eec-314b4a607397",
   "metadata": {},
   "outputs": [
    {
     "data": {
      "text/plain": [
       "Date      4994\n",
       "Open      4028\n",
       "High      4033\n",
       "Low       4029\n",
       "Close     4031\n",
       "Volume    4820\n",
       "dtype: int64"
      ]
     },
     "execution_count": 6,
     "metadata": {},
     "output_type": "execute_result"
    }
   ],
   "source": [
    "btc_raw_data.nunique()"
   ]
  },
  {
   "cell_type": "code",
   "execution_count": 7,
   "id": "e916c348-3308-42c3-be10-fa24f96bfebb",
   "metadata": {},
   "outputs": [
    {
     "data": {
      "text/html": [
       "<div>\n",
       "<style scoped>\n",
       "    .dataframe tbody tr th:only-of-type {\n",
       "        vertical-align: middle;\n",
       "    }\n",
       "\n",
       "    .dataframe tbody tr th {\n",
       "        vertical-align: top;\n",
       "    }\n",
       "\n",
       "    .dataframe thead th {\n",
       "        text-align: right;\n",
       "    }\n",
       "</style>\n",
       "<table border=\"1\" class=\"dataframe\">\n",
       "  <thead>\n",
       "    <tr style=\"text-align: right;\">\n",
       "      <th></th>\n",
       "      <th>Date</th>\n",
       "      <th>Open</th>\n",
       "      <th>High</th>\n",
       "      <th>Low</th>\n",
       "      <th>Close</th>\n",
       "      <th>Volume</th>\n",
       "    </tr>\n",
       "  </thead>\n",
       "  <tbody>\n",
       "    <tr>\n",
       "      <th>0</th>\n",
       "      <td>2010-07-18</td>\n",
       "      <td>0.0</td>\n",
       "      <td>0.1</td>\n",
       "      <td>0.1</td>\n",
       "      <td>0.1</td>\n",
       "      <td>80.0</td>\n",
       "    </tr>\n",
       "    <tr>\n",
       "      <th>1</th>\n",
       "      <td>2010-07-19</td>\n",
       "      <td>0.1</td>\n",
       "      <td>0.1</td>\n",
       "      <td>0.1</td>\n",
       "      <td>0.1</td>\n",
       "      <td>570.0</td>\n",
       "    </tr>\n",
       "    <tr>\n",
       "      <th>2</th>\n",
       "      <td>2010-07-20</td>\n",
       "      <td>0.1</td>\n",
       "      <td>0.1</td>\n",
       "      <td>0.1</td>\n",
       "      <td>0.1</td>\n",
       "      <td>260.0</td>\n",
       "    </tr>\n",
       "  </tbody>\n",
       "</table>\n",
       "</div>"
      ],
      "text/plain": [
       "         Date  Open  High  Low  Close  Volume\n",
       "0  2010-07-18   0.0   0.1  0.1    0.1    80.0\n",
       "1  2010-07-19   0.1   0.1  0.1    0.1   570.0\n",
       "2  2010-07-20   0.1   0.1  0.1    0.1   260.0"
      ]
     },
     "execution_count": 7,
     "metadata": {},
     "output_type": "execute_result"
    }
   ],
   "source": [
    "btc_raw_data.head(3)"
   ]
  },
  {
   "cell_type": "code",
   "execution_count": 8,
   "id": "ddffa149-a268-43fd-9ab6-af03103af92d",
   "metadata": {},
   "outputs": [],
   "source": [
    "btc_raw_data['Date']=pd.to_datetime(btc_raw_data['Date'])"
   ]
  },
  {
   "cell_type": "code",
   "execution_count": 9,
   "id": "c305e2df-908d-4045-9928-08843821c845",
   "metadata": {},
   "outputs": [
    {
     "name": "stdout",
     "output_type": "stream",
     "text": [
      "<class 'pandas.core.frame.DataFrame'>\n",
      "RangeIndex: 4994 entries, 0 to 4993\n",
      "Data columns (total 6 columns):\n",
      " #   Column  Non-Null Count  Dtype         \n",
      "---  ------  --------------  -----         \n",
      " 0   Date    4994 non-null   datetime64[ns]\n",
      " 1   Open    4994 non-null   float64       \n",
      " 2   High    4994 non-null   float64       \n",
      " 3   Low     4994 non-null   float64       \n",
      " 4   Close   4994 non-null   float64       \n",
      " 5   Volume  4988 non-null   float64       \n",
      "dtypes: datetime64[ns](1), float64(5)\n",
      "memory usage: 234.2 KB\n"
     ]
    }
   ],
   "source": [
    "btc_raw_data.info()"
   ]
  },
  {
   "cell_type": "code",
   "execution_count": 10,
   "id": "5114df98-dee1-4136-8e5b-42099357acb8",
   "metadata": {},
   "outputs": [
    {
     "data": {
      "text/html": [
       "<div>\n",
       "<style scoped>\n",
       "    .dataframe tbody tr th:only-of-type {\n",
       "        vertical-align: middle;\n",
       "    }\n",
       "\n",
       "    .dataframe tbody tr th {\n",
       "        vertical-align: top;\n",
       "    }\n",
       "\n",
       "    .dataframe thead th {\n",
       "        text-align: right;\n",
       "    }\n",
       "</style>\n",
       "<table border=\"1\" class=\"dataframe\">\n",
       "  <thead>\n",
       "    <tr style=\"text-align: right;\">\n",
       "      <th></th>\n",
       "      <th>Date</th>\n",
       "      <th>Open</th>\n",
       "      <th>High</th>\n",
       "      <th>Low</th>\n",
       "      <th>Close</th>\n",
       "      <th>Volume</th>\n",
       "    </tr>\n",
       "  </thead>\n",
       "  <tbody>\n",
       "    <tr>\n",
       "      <th>4991</th>\n",
       "      <td>2024-03-17</td>\n",
       "      <td>65316.3</td>\n",
       "      <td>68845.7</td>\n",
       "      <td>64545.3</td>\n",
       "      <td>68390.6</td>\n",
       "      <td>4.471686e+10</td>\n",
       "    </tr>\n",
       "    <tr>\n",
       "      <th>4992</th>\n",
       "      <td>2024-03-18</td>\n",
       "      <td>68371.3</td>\n",
       "      <td>68897.1</td>\n",
       "      <td>66594.2</td>\n",
       "      <td>67548.6</td>\n",
       "      <td>4.926158e+10</td>\n",
       "    </tr>\n",
       "    <tr>\n",
       "      <th>4993</th>\n",
       "      <td>2024-03-19</td>\n",
       "      <td>67556.1</td>\n",
       "      <td>68106.9</td>\n",
       "      <td>61536.2</td>\n",
       "      <td>61912.8</td>\n",
       "      <td>7.421584e+10</td>\n",
       "    </tr>\n",
       "  </tbody>\n",
       "</table>\n",
       "</div>"
      ],
      "text/plain": [
       "           Date     Open     High      Low    Close        Volume\n",
       "4991 2024-03-17  65316.3  68845.7  64545.3  68390.6  4.471686e+10\n",
       "4992 2024-03-18  68371.3  68897.1  66594.2  67548.6  4.926158e+10\n",
       "4993 2024-03-19  67556.1  68106.9  61536.2  61912.8  7.421584e+10"
      ]
     },
     "execution_count": 10,
     "metadata": {},
     "output_type": "execute_result"
    }
   ],
   "source": [
    "btc_raw_data.tail(3)"
   ]
  },
  {
   "cell_type": "code",
   "execution_count": 11,
   "id": "e339383c-ef45-4545-8d95-85d0b63ef4f7",
   "metadata": {},
   "outputs": [],
   "source": [
    "# let's calculate the daily gap between 'Open' and 'Close' costs and add this data as a column by the name 'Daily Gap'"
   ]
  },
  {
   "cell_type": "code",
   "execution_count": 12,
   "id": "74af7051-5da6-4b77-b2bf-7ba81e757cbb",
   "metadata": {},
   "outputs": [],
   "source": [
    "btc_raw_data.insert(5, 'Daily Gap', btc_raw_data['Close']-btc_raw_data['Open'])"
   ]
  },
  {
   "cell_type": "code",
   "execution_count": 14,
   "id": "f91b1b3b-e6a0-4867-b3db-275b2115c040",
   "metadata": {},
   "outputs": [
    {
     "data": {
      "text/html": [
       "<div>\n",
       "<style scoped>\n",
       "    .dataframe tbody tr th:only-of-type {\n",
       "        vertical-align: middle;\n",
       "    }\n",
       "\n",
       "    .dataframe tbody tr th {\n",
       "        vertical-align: top;\n",
       "    }\n",
       "\n",
       "    .dataframe thead th {\n",
       "        text-align: right;\n",
       "    }\n",
       "</style>\n",
       "<table border=\"1\" class=\"dataframe\">\n",
       "  <thead>\n",
       "    <tr style=\"text-align: right;\">\n",
       "      <th></th>\n",
       "      <th>Date</th>\n",
       "      <th>Open</th>\n",
       "      <th>High</th>\n",
       "      <th>Low</th>\n",
       "      <th>Close</th>\n",
       "      <th>Daily Gap</th>\n",
       "      <th>Volume</th>\n",
       "    </tr>\n",
       "  </thead>\n",
       "  <tbody>\n",
       "    <tr>\n",
       "      <th>0</th>\n",
       "      <td>2010-07-18</td>\n",
       "      <td>0.0</td>\n",
       "      <td>0.1</td>\n",
       "      <td>0.1</td>\n",
       "      <td>0.1</td>\n",
       "      <td>0.1</td>\n",
       "      <td>80.0</td>\n",
       "    </tr>\n",
       "    <tr>\n",
       "      <th>1</th>\n",
       "      <td>2010-07-19</td>\n",
       "      <td>0.1</td>\n",
       "      <td>0.1</td>\n",
       "      <td>0.1</td>\n",
       "      <td>0.1</td>\n",
       "      <td>0.0</td>\n",
       "      <td>570.0</td>\n",
       "    </tr>\n",
       "    <tr>\n",
       "      <th>2</th>\n",
       "      <td>2010-07-20</td>\n",
       "      <td>0.1</td>\n",
       "      <td>0.1</td>\n",
       "      <td>0.1</td>\n",
       "      <td>0.1</td>\n",
       "      <td>0.0</td>\n",
       "      <td>260.0</td>\n",
       "    </tr>\n",
       "  </tbody>\n",
       "</table>\n",
       "</div>"
      ],
      "text/plain": [
       "        Date  Open  High  Low  Close  Daily Gap  Volume\n",
       "0 2010-07-18   0.0   0.1  0.1    0.1        0.1    80.0\n",
       "1 2010-07-19   0.1   0.1  0.1    0.1        0.0   570.0\n",
       "2 2010-07-20   0.1   0.1  0.1    0.1        0.0   260.0"
      ]
     },
     "execution_count": 14,
     "metadata": {},
     "output_type": "execute_result"
    }
   ],
   "source": [
    "btc_raw_data.head(3)"
   ]
  },
  {
   "cell_type": "code",
   "execution_count": 15,
   "id": "3f4641f4-922c-441a-8a64-c7ad276549b8",
   "metadata": {},
   "outputs": [
    {
     "data": {
      "image/png": "[encoded data removed]",
      "text/plain": [
       "<Figure size 1500x500 with 1 Axes>"
      ]
     },
     "metadata": {},
     "output_type": "display_data"
    }
   ],
   "source": [
    "sns.set_theme(style='white', rc={'figure.figsize':(15,5)})\n",
    "sns.lineplot(\n",
    "    data=btc_raw_data,\n",
    "    x='Date',\n",
    "    y='Daily Gap'\n",
    ")\n",
    "sns.despine()"
   ]
  },
  {
   "cell_type": "code",
   "execution_count": 16,
   "id": "21c82c70-5a9d-4fbd-ae41-3d7abf78870f",
   "metadata": {},
   "outputs": [],
   "source": [
    "# I am going to convert this data (Daily Gap) to a sound."
   ]
  },
  {
   "cell_type": "code",
   "execution_count": 29,
   "id": "ddeb56a3-94f5-4cd5-b1f4-86d7203042f8",
   "metadata": {},
   "outputs": [],
   "source": [
    "sample_rate = 44100\n",
    "note_duration = 0.001\n",
    "fade_duration = 0.001 "
   ]
  },
  {
   "cell_type": "code",
   "execution_count": 30,
   "id": "203dcc91-beea-42d8-86f2-bf1fcdb1ca36",
   "metadata": {},
   "outputs": [],
   "source": [
    "def generate_smooth_1bit_samples(freq):\n",
    "    t = np.linspace(0, note_duration, int(note_duration * sample_rate), False)\n",
    "    fade_out = np.exp(-(t - (note_duration - fade_duration)) / fade_duration)\n",
    "    samples = 32767.0 * np.where(t % (1 / freq * 2) < (1 / freq), 1, -1) * fade_out\n",
    "    return np.array(samples, dtype=np.int16)"
   ]
  },
  {
   "cell_type": "code",
   "execution_count": 31,
   "id": "16e6f6e1-bd44-47f4-b405-9d3d0a86d174",
   "metadata": {},
   "outputs": [],
   "source": [
    "melody_data=btc_raw_data[btc_raw_data['Daily Gap']!=0]['Daily Gap']"
   ]
  },
  {
   "cell_type": "code",
   "execution_count": 32,
   "id": "d03312a8-0cef-4848-b8db-948d1a8e3e1c",
   "metadata": {},
   "outputs": [],
   "source": [
    "melody=melody_data.values.tolist()"
   ]
  },
  {
   "cell_type": "code",
   "execution_count": 33,
   "id": "674a358b-498f-4354-8ac6-dc9f0f9ff0bc",
   "metadata": {},
   "outputs": [],
   "source": [
    "all_samples = np.concatenate([generate_smooth_1bit_samples(freq) for freq in melody])"
   ]
  },
  {
   "cell_type": "code",
   "execution_count": 34,
   "id": "83e48f1d-2c07-4309-9bfb-a6a9bbc8a631",
   "metadata": {},
   "outputs": [],
   "source": [
    "sd.play(all_samples, samplerate=sample_rate)\n",
    "sd.wait()"
   ]
  }
 ],
 "metadata": {
  "kernelspec": {
   "display_name": "Python 3 (ipykernel)",
   "language": "python",
   "name": "python3"
  },
  "language_info": {
   "codemirror_mode": {
    "name": "ipython",
    "version": 3
   },
   "file_extension": ".py",
   "mimetype": "text/x-python",
   "name": "python",
   "nbconvert_exporter": "python",
   "pygments_lexer": "ipython3",
   "version": "3.11.5"
  }
 },
 "nbformat": 4,
 "nbformat_minor": 5
}
